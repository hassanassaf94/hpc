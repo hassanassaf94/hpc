{
 "cells": [
  {
   "cell_type": "markdown",
   "id": "f3a190ba-d5f6-45c0-91e5-67289eaca87d",
   "metadata": {},
   "source": [
    "# This is my first jupyter\n",
    "\n"
   ]
  },
  {
   "cell_type": "code",
   "execution_count": 2,
   "id": "482ece14-8b3f-4417-8e59-1fffd0ad33e2",
   "metadata": {},
   "outputs": [],
   "source": [
    "a=3 "
   ]
  },
  {
   "cell_type": "code",
   "execution_count": null,
   "id": "9559eabc-433e-4bc9-86b5-d35d256016bb",
   "metadata": {},
   "outputs": [],
   "source": []
  },
  {
   "cell_type": "code",
   "execution_count": null,
   "id": "cf6f672c-c3f9-4455-b57a-345e2d0eefc0",
   "metadata": {},
   "outputs": [],
   "source": []
  },
  {
   "cell_type": "code",
   "execution_count": null,
   "id": "e7dd1b76-baad-4a5c-ba31-9a3c4cfe451d",
   "metadata": {},
   "outputs": [],
   "source": []
  },
  {
   "cell_type": "code",
   "execution_count": null,
   "id": "524209a4-c3ed-4c22-b54e-0c906191c17d",
   "metadata": {},
   "outputs": [],
   "source": []
  },
  {
   "cell_type": "code",
   "execution_count": null,
   "id": "b012193f-635e-41fa-bc44-3240e82828fe",
   "metadata": {},
   "outputs": [],
   "source": []
  }
 ],
 "metadata": {
  "kernelspec": {
   "display_name": "Python",
   "language": "python",
   "name": "python3"
  },
  "language_info": {
   "codemirror_mode": {
    "name": "ipython",
    "version": 3
   },
   "file_extension": ".py",
   "mimetype": "text/x-python",
   "name": "python",
   "nbconvert_exporter": "python",
   "pygments_lexer": "ipython3",
   "version": "3.8.10"
  }
 },
 "nbformat": 4,
 "nbformat_minor": 5
}
